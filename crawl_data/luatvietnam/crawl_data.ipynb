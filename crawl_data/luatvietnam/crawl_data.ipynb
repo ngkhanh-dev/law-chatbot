{
 "cells": [
  {
   "cell_type": "code",
   "execution_count": null,
   "id": "bf77b3f0",
   "metadata": {},
   "outputs": [],
   "source": [
    "import csv\n",
    "import time\n",
    "import random\n",
    "from crawl_utils import scrape_detail_page, scrape_list_page"
   ]
  },
  {
   "cell_type": "code",
   "execution_count": null,
   "id": "20011251",
   "metadata": {},
   "outputs": [],
   "source": [
    "base_url = 'https://luatvietnam.vn/luat-su-tu-van.html'\n",
    "csv_file = 'luatsu_tuvan.csv'\n",
    "total_pages_to_scrape = 123\n",
    "\n",
    "params = {'pSize': 15, 'page': 1}\n",
    "\n",
    "csv_headers = ['Số thứ tự', 'question', 'area', 'time_info', 'situation', 'answer']\n",
    "\n",
    "with open(csv_file, 'w', newline='', encoding='utf-8-sig') as f:\n",
    "    writer = csv.DictWriter(f, fieldnames=csv_headers, extrasaction='ignore')\n",
    "    writer.writeheader()\n",
    "\n",
    "    cnt = 0\n",
    "\n",
    "    for page_num in range(1, total_pages_to_scrape + 1):\n",
    "        params['page'] = page_num\n",
    "\n",
    "        url_to_scrape = f\"{base_url}?\" + \"&\".join([f\"{key}={value}\" for key, value in params.items()])\n",
    "\n",
    "        list_page_items = scrape_list_page(url_to_scrape)\n",
    "\n",
    "        if not list_page_items:\n",
    "            print(f\"Không tìm thấy bài viết nào trên trang {page_num}. Dừng chương trình.\")\n",
    "            break\n",
    "\n",
    "        for item_preview in list_page_items:\n",
    "            link = item_preview.get('link')\n",
    "            if link == 'Không tìm thấy':\n",
    "                continue\n",
    "\n",
    "            cnt += 1\n",
    "            print(f\"({cnt}) Đang xử lý link: {link}\")\n",
    "            detail_data = scrape_detail_page(link)\n",
    "\n",
    "            if detail_data:\n",
    "                # Gộp thông tin từ 2 cấp lại\n",
    "                combined_data = {**item_preview, **detail_data}\n",
    "\n",
    "                # Thêm số thứ tự\n",
    "                combined_data['Số thứ tự'] = cnt\n",
    "\n",
    "                writer.writerow(combined_data)\n",
    "\n",
    "            time.sleep(random.uniform(1, 1.5))\n",
    "\n",
    "        time.sleep(random.uniform(1, 1.5))\n"
   ]
  }
 ],
 "metadata": {
  "language_info": {
   "name": "python"
  }
 },
 "nbformat": 4,
 "nbformat_minor": 5
}
