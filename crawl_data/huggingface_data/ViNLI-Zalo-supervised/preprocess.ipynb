{
 "cells": [
  {
   "cell_type": "code",
   "execution_count": 1,
   "id": "520f4639",
   "metadata": {},
   "outputs": [],
   "source": [
    "import pandas as pd"
   ]
  },
  {
   "cell_type": "code",
   "execution_count": 2,
   "id": "0af1b29b",
   "metadata": {},
   "outputs": [],
   "source": [
    "df = pd.read_json(\"law_vi.jsonl.gz\", compression=\"gzip\", lines=True)"
   ]
  },
  {
   "cell_type": "code",
   "execution_count": 3,
   "id": "a34b12ac",
   "metadata": {},
   "outputs": [
    {
     "name": "stdout",
     "output_type": "stream",
     "text": [
      "                                               query  \\\n",
      "0  Tổ sát_hạch cấp giấy_phép lái tàu_hỏa có bao_n...   \n",
      "1  Văn_bản điều_chỉnh hoạt_động tổ_chức đào_tạo n...   \n",
      "2  Phó chỉ_huy_trưởng Ban chỉ_huy quân_sự xã được...   \n",
      "3  Thực_hiện dân_chủ trong cơ_sở giáo_dục công_lậ...   \n",
      "4       Mức phạt nếu điều_khiển xe ô_tô lắp thêm đèn   \n",
      "\n",
      "                                            positive  \\\n",
      "0  Điều 30 . Tổ sát_hạch 1 . Tổ sát_hạch do Cục_t...   \n",
      "1  Điều 11 . Tổ_chức đào_tạo nghề cho lao_động tr...   \n",
      "2  Điều 9 . Chế_độ phụ_cấp đặc_thù quốc_phòng , q...   \n",
      "3  Điều 8 . Trách_nhiệm của người đứng đầu đoàn_t...   \n",
      "4  Điều 16 . Xử_phạt người điều_khiển xe ô_tô ( b...   \n",
      "\n",
      "                                            hard_neg  \n",
      "0  Điều 10 . Xác_định nội_dung đăng_ký lại khai_s...  \n",
      "1  Điều 6 . Kê_khai , nộp phí 1 . Chậm nhất là ng...  \n",
      "2  Điều 1 . Phạm_vi điều_chỉnh Thông_tư này hướng...  \n",
      "3  Điều 40 . Hiệu_lực thi_hành 1 . Nghị_định này ...  \n",
      "4  Điều 23 . Nội_dung tin cảnh_báo sóng_thần 1 . ...  \n"
     ]
    }
   ],
   "source": [
    "print(df.head())   "
   ]
  },
  {
   "cell_type": "code",
   "execution_count": 4,
   "id": "06af907c",
   "metadata": {},
   "outputs": [
    {
     "name": "stdout",
     "output_type": "stream",
     "text": [
      "(32980, 3)\n"
     ]
    }
   ],
   "source": [
    "print(df.shape) "
   ]
  },
  {
   "cell_type": "code",
   "execution_count": 5,
   "id": "1cded630",
   "metadata": {},
   "outputs": [],
   "source": [
    "df.to_csv(\"./data/law_vi.csv\", index=False, encoding=\"utf-8\")"
   ]
  }
 ],
 "metadata": {
  "kernelspec": {
   "display_name": "Python 3",
   "language": "python",
   "name": "python3"
  },
  "language_info": {
   "codemirror_mode": {
    "name": "ipython",
    "version": 3
   },
   "file_extension": ".py",
   "mimetype": "text/x-python",
   "name": "python",
   "nbconvert_exporter": "python",
   "pygments_lexer": "ipython3",
   "version": "3.10.11"
  }
 },
 "nbformat": 4,
 "nbformat_minor": 5
}
