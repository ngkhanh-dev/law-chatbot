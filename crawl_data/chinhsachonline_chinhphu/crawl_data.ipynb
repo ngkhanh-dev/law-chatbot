{
 "cells": [
  {
   "cell_type": "markdown",
   "id": "d940cbce",
   "metadata": {},
   "source": [
    "### I.Import Library"
   ]
  },
  {
   "cell_type": "code",
   "execution_count": null,
   "id": "2383e516",
   "metadata": {},
   "outputs": [],
   "source": [
    "import pandas as pd\n",
    "from crawl_utils import crawl_page"
   ]
  },
  {
   "cell_type": "markdown",
   "id": "f3098416",
   "metadata": {},
   "source": [
    "### II. Crawl data"
   ]
  },
  {
   "cell_type": "code",
   "execution_count": 3,
   "id": "d2eb6c1d",
   "metadata": {
    "vscode": {
     "languageId": "javascript"
    }
   },
   "outputs": [],
   "source": [
    "domain = {\n",
    "  \n",
    "    \"chinh_sach\": \"https://chinhsachonline.chinhphu.vn/chinh-sach-voi-nguoi-co-cong/t1/2/trang-\",\n",
    "    \"gd_dt_yt\": \"https://chinhsachonline.chinhphu.vn/giao-duc-dao-tao-y-te/t1/15/trang-\",\n",
    "    \"gt_xd_tn-mt\": \"https://chinhsachonline.chinhphu.vn/giao-thong-xay-dung-tai-nguyen-moi-truong/t1/13/trang-\",\n",
    "    \"linh_vuc_khac\": \"https://chinhsachonline.chinhphu.vn/linh-vuc-khac/t1/16/trang-\",\n",
    "    \"taichinh_nganhang\": \"https://chinhsachonline.chinhphu.vn/tai-chinh-ngan-hang-dau-tu-cong-thuong/t1/14/trang-\",\n",
    "    \"bhxh_bhyt_bhtn\": \"https://chinhsachonline.chinhphu.vn/bao-hiem-xa-hoi-bao-hiem-y-te-bao-hiem-that-nghiep/t1/1/trang-\",\n",
    "    \"laodong_tienluong\": \"https://chinhsachonline.chinhphu.vn/lao-dong-tien-luong/t1/11/trang-\",   \n",
    "}\n"
   ]
  },
  {
   "cell_type": "markdown",
   "id": "536db89a",
   "metadata": {},
   "source": []
  },
  {
   "cell_type": "code",
   "execution_count": null,
   "id": "8c1fd859",
   "metadata": {
    "vscode": {
     "languageId": "javascript"
    }
   },
   "outputs": [
    {
     "name": "stdout",
     "output_type": "stream",
     "text": [
      "Successfully saved data to chinh_sach\n",
      "(0, 0)\n"
     ]
    }
   ],
   "source": [
    "for csv_file, url in domain.items():\n",
    "    articles_data = []\n",
    "    for page_num in range(1, 800):\n",
    "        page_url = f\"{url}{page_num}.htm\"\n",
    "        articles_data.extend(crawl_page(page_url))\n",
    "    df = pd.DataFrame(articles_data)\n",
    "    df.to_csv(f\"{csv_file}.csv\", encoding='utf-8',index_label='Index')\n",
    "    print(f\"Successfully saved data to {csv_file}\")\n",
    "    print(df.shape)    "
   ]
  }
 ],
 "metadata": {
  "kernelspec": {
   "display_name": "Python 3",
   "language": "python",
   "name": "python3"
  },
  "language_info": {
   "codemirror_mode": {
    "name": "ipython",
    "version": 3
   },
   "file_extension": ".py",
   "mimetype": "text/x-python",
   "name": "python",
   "nbconvert_exporter": "python",
   "pygments_lexer": "ipython3",
   "version": "3.10.11"
  }
 },
 "nbformat": 4,
 "nbformat_minor": 5
}
