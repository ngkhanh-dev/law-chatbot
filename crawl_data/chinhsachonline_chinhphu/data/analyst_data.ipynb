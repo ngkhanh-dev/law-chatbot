{
 "cells": [
  {
   "cell_type": "code",
   "execution_count": 7,
   "id": "b8fb93a1",
   "metadata": {},
   "outputs": [],
   "source": [
    "import pandas as pd"
   ]
  },
  {
   "cell_type": "code",
   "execution_count": 15,
   "id": "9b70fa2b",
   "metadata": {},
   "outputs": [],
   "source": [
    "df = pd.read_csv(\"taichinh_nganhang.csv\")"
   ]
  },
  {
   "cell_type": "code",
   "execution_count": 16,
   "id": "64f9bd64",
   "metadata": {},
   "outputs": [
    {
     "data": {
      "text/plain": [
       "0       Bộ Tài chính trả lời vấn đề này như sau:Về thờ...\n",
       "1       Bộ Tài chính trả lời vấn đề này như sau:Tại đi...\n",
       "2       Bộ Tài chính trả lời vấn đề này như sau:Tại kh...\n",
       "3       Bộ Tài chính trả lời vấn đề này như sau:Về xác...\n",
       "4       Bộ Tài chính trả lời vấn đề này như sau:Về ngu...\n",
       "                              ...                        \n",
       "1623    Bộ Tài chính trả lời vấn đề này như sau:Phí cô...\n",
       "1624    Bộ Tài chính trả lời các vấn đề này như sau:Th...\n",
       "1625    Bộ Tài chính trả lời vấn đề này như sau như sa...\n",
       "1626    Ngân hàng Nhà nước Việt Nam trả lời vấn đề này...\n",
       "1627    Bộ Tài chính trả lời vấn đề này như sau:Công t...\n",
       "Name: Answer, Length: 1628, dtype: object"
      ]
     },
     "execution_count": 16,
     "metadata": {},
     "output_type": "execute_result"
    }
   ],
   "source": [
    "df[\"Answer\"]"
   ]
  }
 ],
 "metadata": {
  "kernelspec": {
   "display_name": "Python 3",
   "language": "python",
   "name": "python3"
  },
  "language_info": {
   "codemirror_mode": {
    "name": "ipython",
    "version": 3
   },
   "file_extension": ".py",
   "mimetype": "text/x-python",
   "name": "python",
   "nbconvert_exporter": "python",
   "pygments_lexer": "ipython3",
   "version": "3.10.11"
  }
 },
 "nbformat": 4,
 "nbformat_minor": 5
}
