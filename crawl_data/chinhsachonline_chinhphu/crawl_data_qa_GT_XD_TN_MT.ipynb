{
 "cells": [
  {
   "cell_type": "markdown",
   "id": "10be3068",
   "metadata": {},
   "source": [
    "### I. Import library"
   ]
  },
  {
   "cell_type": "code",
   "execution_count": null,
   "id": "39b4fb22",
   "metadata": {},
   "outputs": [],
   "source": [
    "import pandas as pd\n",
    "from crawl_utils import crawl_page"
   ]
  },
  {
   "cell_type": "markdown",
   "id": "dafc2855",
   "metadata": {},
   "source": [
    "### II. Crawl data "
   ]
  },
  {
   "cell_type": "markdown",
   "id": "33ee8d24",
   "metadata": {},
   "source": [
    "#### 2.1. Excute"
   ]
  },
  {
   "cell_type": "code",
   "execution_count": 3,
   "id": "c8ba2320",
   "metadata": {},
   "outputs": [],
   "source": [
    "articles_data = []\n",
    "\n",
    "for page_num in range(1, 400): \n",
    "    page_url = f\"https://chinhsachonline.chinhphu.vn/giao-thong-xay-dung-tai-nguyen-moi-truong/t1/13/trang-{page_num}.htm\"\n",
    "    articles_data.extend(crawl_page(page_url))"
   ]
  },
  {
   "cell_type": "markdown",
   "id": "1fc05d1b",
   "metadata": {},
   "source": [
    "#### 2.2. Export CSV"
   ]
  },
  {
   "cell_type": "code",
   "execution_count": 4,
   "id": "2bc6a735",
   "metadata": {},
   "outputs": [
    {
     "data": {
      "text/html": [
       "<div>\n",
       "<style scoped>\n",
       "    .dataframe tbody tr th:only-of-type {\n",
       "        vertical-align: middle;\n",
       "    }\n",
       "\n",
       "    .dataframe tbody tr th {\n",
       "        vertical-align: top;\n",
       "    }\n",
       "\n",
       "    .dataframe thead th {\n",
       "        text-align: right;\n",
       "    }\n",
       "</style>\n",
       "<table border=\"1\" class=\"dataframe\">\n",
       "  <thead>\n",
       "    <tr style=\"text-align: right;\">\n",
       "      <th></th>\n",
       "      <th>Name</th>\n",
       "      <th>Time</th>\n",
       "      <th>Question</th>\n",
       "      <th>Situation</th>\n",
       "      <th>Answer</th>\n",
       "    </tr>\n",
       "  </thead>\n",
       "  <tbody>\n",
       "    <tr>\n",
       "      <th>0</th>\n",
       "      <td>Đỗ Văn Huy</td>\n",
       "      <td>14:00 31/08/2025</td>\n",
       "      <td>Thẩm quyền xác nhận điều kiện về nhà ở khi thự...</td>\n",
       "      <td>Tôi xin hỏi, từ ngày 1/7/2025 muốn xác nhận đi...</td>\n",
       "      <td>Bộ Xây dựng trả lời vấn đề này như sau:Tại kho...</td>\n",
       "    </tr>\n",
       "    <tr>\n",
       "      <th>1</th>\n",
       "      <td>Trần Thiện Minh</td>\n",
       "      <td>07:05 31/08/2025</td>\n",
       "      <td>DN kiến nghị bỏ cấp chứng nhận cơ sở bảo hành ...</td>\n",
       "      <td>Công ty tôi kinh doanh trong lĩnh vực dịch vụ ...</td>\n",
       "      <td>Bộ Xây dựng trả lời vấn đề này như sau:Chất lư...</td>\n",
       "    </tr>\n",
       "    <tr>\n",
       "      <th>2</th>\n",
       "      <td>Vũ Đình Sơn</td>\n",
       "      <td>07:05 30/08/2025</td>\n",
       "      <td>Hướng dẫn áp dụng các mã hiệu định mức xây dựng</td>\n",
       "      <td>Theo định mức dự toán sửa chữa và bảo dưỡng cô...</td>\n",
       "      <td>Bộ Xây dựng trả lời vấn đề này như sau:Công tá...</td>\n",
       "    </tr>\n",
       "    <tr>\n",
       "      <th>3</th>\n",
       "      <td>Nguyễn Việt An</td>\n",
       "      <td>15:05 29/08/2025</td>\n",
       "      <td>Giấy xác nhận điều kiện về nhà ở có thời hạn k...</td>\n",
       "      <td>Tôi muốn mua nhà ở xã hội, dự kiến quý 4/2025 ...</td>\n",
       "      <td>Bộ Xây dựng trả lời vấn đề này như sau:Tại kho...</td>\n",
       "    </tr>\n",
       "    <tr>\n",
       "      <th>4</th>\n",
       "      <td>Nguyễn Phương</td>\n",
       "      <td>08:29 29/08/2025</td>\n",
       "      <td>Khi nào dự án được coi là sử dụng vốn nhà nước...</td>\n",
       "      <td>Tại khoản 7 Điều 3 Nghị định số 175/2024/NĐ-CP...</td>\n",
       "      <td>Bộ Xây dựng trả lời vấn đề này như sau:Theo qu...</td>\n",
       "    </tr>\n",
       "  </tbody>\n",
       "</table>\n",
       "</div>"
      ],
      "text/plain": [
       "              Name              Time  \\\n",
       "0       Đỗ Văn Huy  14:00 31/08/2025   \n",
       "1  Trần Thiện Minh  07:05 31/08/2025   \n",
       "2      Vũ Đình Sơn  07:05 30/08/2025   \n",
       "3   Nguyễn Việt An  15:05 29/08/2025   \n",
       "4    Nguyễn Phương  08:29 29/08/2025   \n",
       "\n",
       "                                            Question  \\\n",
       "0  Thẩm quyền xác nhận điều kiện về nhà ở khi thự...   \n",
       "1  DN kiến nghị bỏ cấp chứng nhận cơ sở bảo hành ...   \n",
       "2    Hướng dẫn áp dụng các mã hiệu định mức xây dựng   \n",
       "3  Giấy xác nhận điều kiện về nhà ở có thời hạn k...   \n",
       "4  Khi nào dự án được coi là sử dụng vốn nhà nước...   \n",
       "\n",
       "                                           Situation  \\\n",
       "0  Tôi xin hỏi, từ ngày 1/7/2025 muốn xác nhận đi...   \n",
       "1  Công ty tôi kinh doanh trong lĩnh vực dịch vụ ...   \n",
       "2  Theo định mức dự toán sửa chữa và bảo dưỡng cô...   \n",
       "3  Tôi muốn mua nhà ở xã hội, dự kiến quý 4/2025 ...   \n",
       "4  Tại khoản 7 Điều 3 Nghị định số 175/2024/NĐ-CP...   \n",
       "\n",
       "                                              Answer  \n",
       "0  Bộ Xây dựng trả lời vấn đề này như sau:Tại kho...  \n",
       "1  Bộ Xây dựng trả lời vấn đề này như sau:Chất lư...  \n",
       "2  Bộ Xây dựng trả lời vấn đề này như sau:Công tá...  \n",
       "3  Bộ Xây dựng trả lời vấn đề này như sau:Tại kho...  \n",
       "4  Bộ Xây dựng trả lời vấn đề này như sau:Theo qu...  "
      ]
     },
     "execution_count": 4,
     "metadata": {},
     "output_type": "execute_result"
    }
   ],
   "source": [
    "df = pd.DataFrame(articles_data)\n",
    "df.head()"
   ]
  },
  {
   "cell_type": "code",
   "execution_count": 5,
   "id": "66cc3754",
   "metadata": {},
   "outputs": [],
   "source": [
    "csv_file = './data/gt_xd_tn_mt.csv'\n",
    "df.to_csv(csv_file, encoding='utf-8',index_label='Index')"
   ]
  },
  {
   "cell_type": "code",
   "execution_count": 6,
   "id": "4882c415",
   "metadata": {},
   "outputs": [],
   "source": [
    "df_gxtm = pd.read_csv(csv_file, encoding='utf-8')"
   ]
  },
  {
   "cell_type": "code",
   "execution_count": 7,
   "id": "ccc56339",
   "metadata": {},
   "outputs": [
    {
     "data": {
      "text/plain": [
       "(1597, 6)"
      ]
     },
     "execution_count": 7,
     "metadata": {},
     "output_type": "execute_result"
    }
   ],
   "source": [
    "df_gxtm.shape"
   ]
  }
 ],
 "metadata": {
  "kernelspec": {
   "display_name": "Python 3",
   "language": "python",
   "name": "python3"
  },
  "language_info": {
   "codemirror_mode": {
    "name": "ipython",
    "version": 3
   },
   "file_extension": ".py",
   "mimetype": "text/x-python",
   "name": "python",
   "nbconvert_exporter": "python",
   "pygments_lexer": "ipython3",
   "version": "3.10.11"
  }
 },
 "nbformat": 4,
 "nbformat_minor": 5
}
