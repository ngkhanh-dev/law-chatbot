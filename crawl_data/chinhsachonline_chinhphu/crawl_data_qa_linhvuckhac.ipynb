{
 "cells": [
  {
   "cell_type": "markdown",
   "id": "1a1c50a0",
   "metadata": {},
   "source": [
    "### I. Import Library"
   ]
  },
  {
   "cell_type": "code",
   "execution_count": null,
   "id": "7cf75851",
   "metadata": {},
   "outputs": [],
   "source": [
    "import pandas as pd\n",
    "from crawl_utils import crawl_page"
   ]
  },
  {
   "cell_type": "markdown",
   "id": "8a511d10",
   "metadata": {},
   "source": [
    "### II. Crawl data"
   ]
  },
  {
   "cell_type": "markdown",
   "id": "76f21514",
   "metadata": {},
   "source": [
    "### 2.1. Excute"
   ]
  },
  {
   "cell_type": "code",
   "execution_count": 3,
   "id": "56c14a89",
   "metadata": {},
   "outputs": [],
   "source": [
    "articles_data = []\n",
    "for page_num in range(1, 800): \n",
    "    page_url = f\"https://chinhsachonline.chinhphu.vn/linh-vuc-khac/t1/16/trang-{page_num}.htm\"\n",
    "    articles_data.extend(crawl_page(page_url))\n",
    " "
   ]
  },
  {
   "cell_type": "markdown",
   "id": "646ba54e",
   "metadata": {},
   "source": [
    "#### 2.2. Export csv "
   ]
  },
  {
   "cell_type": "code",
   "execution_count": 4,
   "id": "da61f392",
   "metadata": {},
   "outputs": [
    {
     "data": {
      "text/html": [
       "<div>\n",
       "<style scoped>\n",
       "    .dataframe tbody tr th:only-of-type {\n",
       "        vertical-align: middle;\n",
       "    }\n",
       "\n",
       "    .dataframe tbody tr th {\n",
       "        vertical-align: top;\n",
       "    }\n",
       "\n",
       "    .dataframe thead th {\n",
       "        text-align: right;\n",
       "    }\n",
       "</style>\n",
       "<table border=\"1\" class=\"dataframe\">\n",
       "  <thead>\n",
       "    <tr style=\"text-align: right;\">\n",
       "      <th></th>\n",
       "      <th>Name</th>\n",
       "      <th>Time</th>\n",
       "      <th>Question</th>\n",
       "      <th>Situation</th>\n",
       "      <th>Answer</th>\n",
       "    </tr>\n",
       "  </thead>\n",
       "  <tbody>\n",
       "    <tr>\n",
       "      <th>0</th>\n",
       "      <td>Ngô Nguyễn Khoa Nam</td>\n",
       "      <td>14:58 17/08/2022</td>\n",
       "      <td>Đã làm rõ việc trùng số sổ BHXH của ông Ngô Ng...</td>\n",
       "      <td>Tháng 7/2022, tôi đến BHXH Quận 5, TPHCM làm t...</td>\n",
       "      <td>Bảo hiểm xã hội TP. Hồ Chí Minh trả lời vấn đề...</td>\n",
       "    </tr>\n",
       "    <tr>\n",
       "      <th>1</th>\n",
       "      <td>Bùi Thị Liên</td>\n",
       "      <td>16:22 22/07/2022</td>\n",
       "      <td>Muốn đổi tên cần làm thủ tục gì?</td>\n",
       "      <td>Tôi xin hỏi, các thủ tục và hồ sơ liên quan đế...</td>\n",
       "      <td>Sở Tư pháp tỉnh Quảng Ninh trả lời vấn đề này ...</td>\n",
       "    </tr>\n",
       "    <tr>\n",
       "      <th>2</th>\n",
       "      <td>Nguyễn Minh Trung</td>\n",
       "      <td>19:57 20/07/2022</td>\n",
       "      <td>Có phải làm lại hộ chiếu theo mẫu mới?</td>\n",
       "      <td>Tôi được biết, từ ngày 1/7/2022, công dân Việt...</td>\n",
       "      <td>Bộ Công an trả lời vấn đề này như sau:Công dân...</td>\n",
       "    </tr>\n",
       "    <tr>\n",
       "      <th>3</th>\n",
       "      <td>Nguyễn Thị Thanh Tâm</td>\n",
       "      <td>11:58 01/07/2022</td>\n",
       "      <td>Đăng ký thường trú nhiều nơi, xác nhận tình tr...</td>\n",
       "      <td>Thủ tục cấp Giấy xác nhận tình trạng hôn nhân ...</td>\n",
       "      <td>Bộ Tư pháp trả lời vấn đề này như sau:Theo quy...</td>\n",
       "    </tr>\n",
       "    <tr>\n",
       "      <th>4</th>\n",
       "      <td>Võ Nhựt Quí</td>\n",
       "      <td>12:00 17/06/2022</td>\n",
       "      <td>UBND xã có được chứng thực hợp đồng ủy quyền v...</td>\n",
       "      <td>Tôi đăng ký cấp Giấy chứng nhận quyền sử dụng ...</td>\n",
       "      <td>Bộ Tư pháp trả lời vấn đề này như sau:Theo quy...</td>\n",
       "    </tr>\n",
       "  </tbody>\n",
       "</table>\n",
       "</div>"
      ],
      "text/plain": [
       "                   Name              Time  \\\n",
       "0   Ngô Nguyễn Khoa Nam  14:58 17/08/2022   \n",
       "1          Bùi Thị Liên  16:22 22/07/2022   \n",
       "2     Nguyễn Minh Trung  19:57 20/07/2022   \n",
       "3  Nguyễn Thị Thanh Tâm  11:58 01/07/2022   \n",
       "4           Võ Nhựt Quí  12:00 17/06/2022   \n",
       "\n",
       "                                            Question  \\\n",
       "0  Đã làm rõ việc trùng số sổ BHXH của ông Ngô Ng...   \n",
       "1                   Muốn đổi tên cần làm thủ tục gì?   \n",
       "2             Có phải làm lại hộ chiếu theo mẫu mới?   \n",
       "3  Đăng ký thường trú nhiều nơi, xác nhận tình tr...   \n",
       "4  UBND xã có được chứng thực hợp đồng ủy quyền v...   \n",
       "\n",
       "                                           Situation  \\\n",
       "0  Tháng 7/2022, tôi đến BHXH Quận 5, TPHCM làm t...   \n",
       "1  Tôi xin hỏi, các thủ tục và hồ sơ liên quan đế...   \n",
       "2  Tôi được biết, từ ngày 1/7/2022, công dân Việt...   \n",
       "3  Thủ tục cấp Giấy xác nhận tình trạng hôn nhân ...   \n",
       "4  Tôi đăng ký cấp Giấy chứng nhận quyền sử dụng ...   \n",
       "\n",
       "                                              Answer  \n",
       "0  Bảo hiểm xã hội TP. Hồ Chí Minh trả lời vấn đề...  \n",
       "1  Sở Tư pháp tỉnh Quảng Ninh trả lời vấn đề này ...  \n",
       "2  Bộ Công an trả lời vấn đề này như sau:Công dân...  \n",
       "3  Bộ Tư pháp trả lời vấn đề này như sau:Theo quy...  \n",
       "4  Bộ Tư pháp trả lời vấn đề này như sau:Theo quy...  "
      ]
     },
     "execution_count": 4,
     "metadata": {},
     "output_type": "execute_result"
    }
   ],
   "source": [
    "df = pd.DataFrame(articles_data)\n",
    "df.head()"
   ]
  },
  {
   "cell_type": "code",
   "execution_count": 5,
   "id": "1f2a6618",
   "metadata": {},
   "outputs": [],
   "source": [
    "csv_file = './data/linh_vuc_khac.csv'\n",
    "df.to_csv(csv_file, encoding='utf-8',index_label='Index')"
   ]
  },
  {
   "cell_type": "code",
   "execution_count": 6,
   "id": "0c900b9f",
   "metadata": {},
   "outputs": [],
   "source": [
    "df_lvk = pd.read_csv(csv_file, encoding='utf-8')"
   ]
  },
  {
   "cell_type": "code",
   "execution_count": 7,
   "id": "5517923c",
   "metadata": {},
   "outputs": [
    {
     "data": {
      "text/plain": [
       "(53, 6)"
      ]
     },
     "execution_count": 7,
     "metadata": {},
     "output_type": "execute_result"
    }
   ],
   "source": [
    "df_lvk.shape"
   ]
  }
 ],
 "metadata": {
  "kernelspec": {
   "display_name": "Python 3",
   "language": "python",
   "name": "python3"
  },
  "language_info": {
   "codemirror_mode": {
    "name": "ipython",
    "version": 3
   },
   "file_extension": ".py",
   "mimetype": "text/x-python",
   "name": "python",
   "nbconvert_exporter": "python",
   "pygments_lexer": "ipython3",
   "version": "3.10.11"
  }
 },
 "nbformat": 4,
 "nbformat_minor": 5
}
