{
 "cells": [
  {
   "cell_type": "markdown",
   "id": "104748cc",
   "metadata": {},
   "source": [
    "### I. Import library"
   ]
  },
  {
   "cell_type": "code",
   "execution_count": null,
   "id": "d8775c76",
   "metadata": {},
   "outputs": [],
   "source": [
    "import pandas as pd\n",
    "from crawl_utils import crawl_page"
   ]
  },
  {
   "cell_type": "markdown",
   "id": "80f05499",
   "metadata": {},
   "source": [
    "### II. Crawl data"
   ]
  },
  {
   "cell_type": "markdown",
   "id": "c162ce7b",
   "metadata": {},
   "source": [
    "#### 2.1. Excute"
   ]
  },
  {
   "cell_type": "code",
   "execution_count": 4,
   "id": "099a1579",
   "metadata": {},
   "outputs": [],
   "source": [
    "articles_data = []\n",
    "\n",
    "for page_num in range(1, 400): \n",
    "    page_url = f\"https://chinhsachonline.chinhphu.vn/bao-hiem-xa-hoi-bao-hiem-y-te-bao-hiem-that-nghiep/t1/1/trang-{page_num}.htm\"\n",
    "    articles_data.extend(crawl_page(page_url))"
   ]
  },
  {
   "cell_type": "markdown",
   "id": "536b561f",
   "metadata": {},
   "source": [
    "#### 2.2. Export csv"
   ]
  },
  {
   "cell_type": "code",
   "execution_count": 5,
   "id": "9f773acd",
   "metadata": {},
   "outputs": [
    {
     "data": {
      "text/html": [
       "<div>\n",
       "<style scoped>\n",
       "    .dataframe tbody tr th:only-of-type {\n",
       "        vertical-align: middle;\n",
       "    }\n",
       "\n",
       "    .dataframe tbody tr th {\n",
       "        vertical-align: top;\n",
       "    }\n",
       "\n",
       "    .dataframe thead th {\n",
       "        text-align: right;\n",
       "    }\n",
       "</style>\n",
       "<table border=\"1\" class=\"dataframe\">\n",
       "  <thead>\n",
       "    <tr style=\"text-align: right;\">\n",
       "      <th></th>\n",
       "      <th>Name</th>\n",
       "      <th>Time</th>\n",
       "      <th>Question</th>\n",
       "      <th>Situation</th>\n",
       "      <th>Answer</th>\n",
       "    </tr>\n",
       "  </thead>\n",
       "  <tbody>\n",
       "    <tr>\n",
       "      <th>0</th>\n",
       "      <td>Trần Quốc Tỏ</td>\n",
       "      <td>09:35 26/08/2025</td>\n",
       "      <td>Điều kiện đăng ký khám, chữa bệnh BHYT</td>\n",
       "      <td>Tôi làm việc tại một cơ sở y tế, tôi có mua lạ...</td>\n",
       "      <td>Bảo hiểm xã hội tỉnh Phú Thọ trả lời vấn đề nà...</td>\n",
       "    </tr>\n",
       "    <tr>\n",
       "      <th>1</th>\n",
       "      <td>Nguyễn Văn Hưng</td>\n",
       "      <td>17:09 25/08/2025</td>\n",
       "      <td>Khi nào được cộng thời gian công tác để tính h...</td>\n",
       "      <td>Tôi tham gia quân đội từ tháng 2/1993, đến thá...</td>\n",
       "      <td>Bảo hiểm xã hội tỉnh Cà Mau trả lời vấn đề này...</td>\n",
       "    </tr>\n",
       "    <tr>\n",
       "      <th>2</th>\n",
       "      <td>Châu Thị Thùy Mỹ</td>\n",
       "      <td>12:17 23/08/2025</td>\n",
       "      <td>Sáp nhập tỉnh có cần chuyển nơi đăng ký khám, ...</td>\n",
       "      <td>Tôi làm việc tại tỉnh An Giang (mới), nơi đăng...</td>\n",
       "      <td>Bảo hiểm xã hội tỉnh An Giang trả lời vấn đề n...</td>\n",
       "    </tr>\n",
       "    <tr>\n",
       "      <th>3</th>\n",
       "      <td>Nguyễn Tương</td>\n",
       "      <td>13:54 21/08/2025</td>\n",
       "      <td>Nghỉ theo Nghị định 178, được thuê làm chuyên ...</td>\n",
       "      <td>Tôi 52 tuổi, nghỉ làm theo chế độ tại Nghị địn...</td>\n",
       "      <td>Bảo hiểm xã hội tỉnh Thái Nguyên trả lời vấn đ...</td>\n",
       "    </tr>\n",
       "    <tr>\n",
       "      <th>4</th>\n",
       "      <td>Dần Minh</td>\n",
       "      <td>11:47 18/08/2025</td>\n",
       "      <td>Điều kiện hưởng lương hưu khi suy giảm khả năn...</td>\n",
       "      <td>Mẹ tôi sinh năm 1975, đóng BHXH được 23 năm, t...</td>\n",
       "      <td>Bảo hiểm xã hội Việt Nam trả lời vấn đề này nh...</td>\n",
       "    </tr>\n",
       "  </tbody>\n",
       "</table>\n",
       "</div>"
      ],
      "text/plain": [
       "               Name              Time  \\\n",
       "0      Trần Quốc Tỏ  09:35 26/08/2025   \n",
       "1   Nguyễn Văn Hưng  17:09 25/08/2025   \n",
       "2  Châu Thị Thùy Mỹ  12:17 23/08/2025   \n",
       "3      Nguyễn Tương  13:54 21/08/2025   \n",
       "4          Dần Minh  11:47 18/08/2025   \n",
       "\n",
       "                                            Question  \\\n",
       "0             Điều kiện đăng ký khám, chữa bệnh BHYT   \n",
       "1  Khi nào được cộng thời gian công tác để tính h...   \n",
       "2  Sáp nhập tỉnh có cần chuyển nơi đăng ký khám, ...   \n",
       "3  Nghỉ theo Nghị định 178, được thuê làm chuyên ...   \n",
       "4  Điều kiện hưởng lương hưu khi suy giảm khả năn...   \n",
       "\n",
       "                                           Situation  \\\n",
       "0  Tôi làm việc tại một cơ sở y tế, tôi có mua lạ...   \n",
       "1  Tôi tham gia quân đội từ tháng 2/1993, đến thá...   \n",
       "2  Tôi làm việc tại tỉnh An Giang (mới), nơi đăng...   \n",
       "3  Tôi 52 tuổi, nghỉ làm theo chế độ tại Nghị địn...   \n",
       "4  Mẹ tôi sinh năm 1975, đóng BHXH được 23 năm, t...   \n",
       "\n",
       "                                              Answer  \n",
       "0  Bảo hiểm xã hội tỉnh Phú Thọ trả lời vấn đề nà...  \n",
       "1  Bảo hiểm xã hội tỉnh Cà Mau trả lời vấn đề này...  \n",
       "2  Bảo hiểm xã hội tỉnh An Giang trả lời vấn đề n...  \n",
       "3  Bảo hiểm xã hội tỉnh Thái Nguyên trả lời vấn đ...  \n",
       "4  Bảo hiểm xã hội Việt Nam trả lời vấn đề này nh...  "
      ]
     },
     "execution_count": 5,
     "metadata": {},
     "output_type": "execute_result"
    }
   ],
   "source": [
    "df = pd.DataFrame(articles_data)\n",
    "df.head()"
   ]
  },
  {
   "cell_type": "code",
   "execution_count": 6,
   "id": "7b71df45",
   "metadata": {},
   "outputs": [],
   "source": [
    "csv_file = './data/bhxh_bhyt_bhtn.csv'\n",
    "df.to_csv(csv_file, encoding='utf-8',index_label='Index')"
   ]
  },
  {
   "cell_type": "code",
   "execution_count": 7,
   "id": "06a15e4c",
   "metadata": {},
   "outputs": [],
   "source": [
    "df_gdy = pd.read_csv(csv_file, encoding='utf-8')"
   ]
  },
  {
   "cell_type": "code",
   "execution_count": 8,
   "id": "2102de9e",
   "metadata": {},
   "outputs": [
    {
     "data": {
      "text/plain": [
       "(981, 6)"
      ]
     },
     "execution_count": 8,
     "metadata": {},
     "output_type": "execute_result"
    }
   ],
   "source": [
    "df_gdy.shape"
   ]
  }
 ],
 "metadata": {
  "kernelspec": {
   "display_name": "Python 3",
   "language": "python",
   "name": "python3"
  },
  "language_info": {
   "codemirror_mode": {
    "name": "ipython",
    "version": 3
   },
   "file_extension": ".py",
   "mimetype": "text/x-python",
   "name": "python",
   "nbconvert_exporter": "python",
   "pygments_lexer": "ipython3",
   "version": "3.10.11"
  }
 },
 "nbformat": 4,
 "nbformat_minor": 5
}
