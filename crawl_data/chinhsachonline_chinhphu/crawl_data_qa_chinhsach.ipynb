{
 "cells": [
  {
   "cell_type": "markdown",
   "id": "f9bc6ba0",
   "metadata": {},
   "source": [
    "### I. Import Library"
   ]
  },
  {
   "cell_type": "code",
   "execution_count": null,
   "id": "eceabb50",
   "metadata": {},
   "outputs": [],
   "source": [
    "import pandas as pd\n",
    "from crawl_utils import crawl_page"
   ]
  },
  {
   "cell_type": "markdown",
   "id": "ffe9dcfc",
   "metadata": {},
   "source": [
    "### II. Crawl data"
   ]
  },
  {
   "cell_type": "markdown",
   "id": "cbd59d16",
   "metadata": {},
   "source": [
    "#### 2.1. Execute"
   ]
  },
  {
   "cell_type": "code",
   "execution_count": 3,
   "id": "3c3ed3a6",
   "metadata": {},
   "outputs": [
    {
     "name": "stdout",
     "output_type": "stream",
     "text": [
      "1\n"
     ]
    }
   ],
   "source": [
    "articles_data = []\n",
    "for page_num in range(1, 2):\n",
    "    print(page_num)\n",
    "    page_url = f\"https://chinhsachonline.chinhphu.vn/chinh-sach-voi-nguoi-co-cong/t1/2/trang-{page_num}.htm\"\n",
    "    articles_data.extend(crawl_page(page_url))"
   ]
  },
  {
   "cell_type": "markdown",
   "id": "92b78393",
   "metadata": {},
   "source": [
    "#### 2.2. Export csv "
   ]
  },
  {
   "cell_type": "code",
   "execution_count": 4,
   "id": "8f944ba7",
   "metadata": {},
   "outputs": [
    {
     "data": {
      "text/html": [
       "<div>\n",
       "<style scoped>\n",
       "    .dataframe tbody tr th:only-of-type {\n",
       "        vertical-align: middle;\n",
       "    }\n",
       "\n",
       "    .dataframe tbody tr th {\n",
       "        vertical-align: top;\n",
       "    }\n",
       "\n",
       "    .dataframe thead th {\n",
       "        text-align: right;\n",
       "    }\n",
       "</style>\n",
       "<table border=\"1\" class=\"dataframe\">\n",
       "  <thead>\n",
       "    <tr style=\"text-align: right;\">\n",
       "      <th></th>\n",
       "    </tr>\n",
       "  </thead>\n",
       "  <tbody>\n",
       "  </tbody>\n",
       "</table>\n",
       "</div>"
      ],
      "text/plain": [
       "Empty DataFrame\n",
       "Columns: []\n",
       "Index: []"
      ]
     },
     "execution_count": 4,
     "metadata": {},
     "output_type": "execute_result"
    }
   ],
   "source": [
    "df = pd.DataFrame(articles_data)\n",
    "df.head()"
   ]
  },
  {
   "cell_type": "code",
   "execution_count": 5,
   "id": "00ff36c0",
   "metadata": {},
   "outputs": [],
   "source": [
    "csv_file = './data/chinh_sach.csv'\n",
    "df.to_csv(csv_file, encoding='utf-8',index_label='Index')"
   ]
  },
  {
   "cell_type": "code",
   "execution_count": 6,
   "id": "8d6d4df7",
   "metadata": {},
   "outputs": [],
   "source": [
    "df_cs = pd.read_csv(\"./data/chinh_sach.csv\", encoding='utf-8')"
   ]
  },
  {
   "cell_type": "code",
   "execution_count": 7,
   "id": "3f1aab02",
   "metadata": {},
   "outputs": [
    {
     "data": {
      "text/plain": [
       "(0, 1)"
      ]
     },
     "execution_count": 7,
     "metadata": {},
     "output_type": "execute_result"
    }
   ],
   "source": [
    "df_cs.shape"
   ]
  }
 ],
 "metadata": {
  "kernelspec": {
   "display_name": "Python 3",
   "language": "python",
   "name": "python3"
  },
  "language_info": {
   "codemirror_mode": {
    "name": "ipython",
    "version": 3
   },
   "file_extension": ".py",
   "mimetype": "text/x-python",
   "name": "python",
   "nbconvert_exporter": "python",
   "pygments_lexer": "ipython3",
   "version": "3.10.11"
  }
 },
 "nbformat": 4,
 "nbformat_minor": 5
}
